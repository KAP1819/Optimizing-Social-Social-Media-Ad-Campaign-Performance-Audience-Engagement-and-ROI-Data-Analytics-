{
 "cells": [
  {
   "cell_type": "code",
   "execution_count": 1,
   "id": "5394057f-f2d0-4993-852f-5294eddbc8f0",
   "metadata": {},
   "outputs": [],
   "source": [
    "# Load the KAG conversion data and do a quick exploratory summary to answer:\n",
    "# Which age and gender groups drive highest sales (Approved_Conversion), highest ad spend (Spent), and their conversion efficiency (Approved_Conversion per Click and per Spent)?\n",
    "import pandas as pd\n",
    "import numpy as np\n",
    "import matplotlib.pyplot as plt\n",
    "import seaborn as sns"
   ]
  },
  {
   "cell_type": "code",
   "execution_count": null,
   "id": "5e02ea48-99dd-4c32-9ff5-6af03d9838ff",
   "metadata": {},
   "outputs": [],
   "source": [
    "# Read data\n",
    "file_path = 'KAG_conversion_data_raw.csv'\n",
    "df_conv = pd.read_csv(file_path, encoding='ascii')\n",
    "print('Loaded KAG_conversion_data_raw.csv with shape:', df_conv.shape)\n",
    "print(df_conv.head())"
   ]
  },
  {
   "cell_type": "code",
   "execution_count": null,
   "id": "fa6eaf66-963c-470f-b949-c390facfc8c0",
   "metadata": {},
   "outputs": [],
   "source": [
    "# Basic cleaning: ensure numeric types\n",
    "num_cols = ['Impressions', 'Clicks', 'Spent', 'Total_Conversion', 'Approved_Conversion']\n",
    "for c in num_cols:\n",
    "    df_conv[c] = pd.to_numeric(df_conv[c], errors='coerce')"
   ]
  },
  {
   "cell_type": "code",
   "execution_count": null,
   "id": "91121536-e1df-4e9b-a304-d5de64e094ba",
   "metadata": {},
   "outputs": [],
   "source": [
    "# Drop rows with missing critical fields\n",
    "df_clean = df_conv.dropna(subset=['age', 'gender', 'Spent', 'Approved_Conversion', 'Clicks'])\n",
    "print('After cleaning, shape:', df_clean.shape)\n",
    "\n",
    "# Aggregate by age and gender\n",
    "agg = df_clean.groupby(['age', 'gender'], as_index=False).agg({\n",
    "    'Spent': 'sum',\n",
    "    'Clicks': 'sum',\n",
    "    'Approved_Conversion': 'sum'\n",
    "})\n",
    "\n"
   ]
  },
  {
   "cell_type": "code",
   "execution_count": null,
   "id": "6c713465-fb10-40e0-ae81-177b93964169",
   "metadata": {},
   "outputs": [],
   "source": [
    "# Compute efficiency metrics\n",
    "agg['Conv_per_Click'] = np.where(agg['Clicks'] > 0, agg['Approved_Conversion'] / agg['Clicks'], np.nan)\n",
    "agg['Conv_per_Spent'] = np.where(agg['Spent'] > 0, agg['Approved_Conversion'] / agg['Spent'], np.nan)\n",
    "\n",
    "# Rank groups\n",
    "agg['Rank_Sales'] = agg['Approved_Conversion'].rank(ascending=False, method='dense')\n",
    "agg['Rank_Spend'] = agg['Spent'].rank(ascending=False, method='dense')\n",
    "\n"
   ]
  },
  {
   "cell_type": "code",
   "execution_count": null,
   "id": "60129102-757d-43b6-9402-20e531742cec",
   "metadata": {},
   "outputs": [],
   "source": [
    "# Identify top groups\n",
    "top_sales = agg.sort_values('Approved_Conversion', ascending=False).head(5)\n",
    "top_spend = agg.sort_values('Spent', ascending=False).head(5)\n",
    "print('Top groups by sales (Approved_Conversion):')\n",
    "print(top_sales[['age','gender','Approved_Conversion','Spent','Clicks','Conv_per_Click','Conv_per_Spent']])\n",
    "print('Top groups by spend (Spent):')\n",
    "print(top_spend[['age','gender','Approved_Conversion','Spent','Clicks','Conv_per_Click','Conv_per_Spent']])\n",
    "\n"
   ]
  },
  {
   "cell_type": "code",
   "execution_count": null,
   "id": "22ed34e1-feaf-4af4-85ad-39dd83291b24",
   "metadata": {},
   "outputs": [],
   "source": [
    "# Visualizations\n",
    "plt.figure(figsize=(9,5))\n",
    "sns.barplot(data=agg.sort_values('Approved_Conversion', ascending=False), x='age', y='Approved_Conversion', hue='gender')\n",
    "plt.title('Approved Conversions by Age and Gender')\n",
    "plt.ylabel('Approved Conversions')\n",
    "plt.xlabel('Age Group')\n",
    "plt.legend(title='Gender')\n",
    "plt.tight_layout()\n",
    "plt.show()\n",
    "\n",
    "plt.figure(figsize=(9,5))\n",
    "sns.barplot(data=agg.sort_values('Spent', ascending=False), x='age', y='Spent', hue='gender')\n",
    "plt.title('Ad Spend by Age and Gender')\n",
    "plt.ylabel('Total Spend')\n",
    "plt.xlabel('Age Group')\n",
    "plt.legend(title='Gender')\n",
    "plt.tight_layout()\n",
    "plt.show()\n",
    "\n",
    "plt.figure(figsize=(9,5))\n",
    "sns.barplot(data=agg.sort_values('Conv_per_Spent', ascending=False), x='age', y='Conv_per_Spent', hue='gender')\n",
    "plt.title('Conversion Efficiency (Approved per Dollar) by Age and Gender')\n",
    "plt.ylabel('Approved per Dollar')\n",
    "plt.xlabel('Age Group')\n",
    "plt.legend(title='Gender')\n",
    "plt.tight_layout()\n",
    "plt.show()\n",
    "\n",
    "plt.figure(figsize=(9,5))\n",
    "sns.barplot(data=agg.sort_values('Conv_per_Click', ascending=False), x='age', y='Conv_per_Click', hue='gender')\n",
    "plt.title('Conversion Rate (Approved per Click) by Age and Gender')\n",
    "plt.ylabel('Approved per Click')\n",
    "plt.xlabel('Age Group')\n",
    "plt.legend(title='Gender')\n",
    "plt.tight_layout()\n",
    "plt.show()\n",
    "\n"
   ]
  },
  {
   "cell_type": "code",
   "execution_count": null,
   "id": "5cd84b04-40a6-48db-92c6-600fb55749f5",
   "metadata": {},
   "outputs": [],
   "source": [
    "# Provide a concise table sorted by sales and spend for reference\n",
    "summary = agg.sort_values(['Approved_Conversion','Spent'], ascending=[False, False]).reset_index(drop=True)\n",
    "print('Summary by age x gender (top 10 by sales):')\n",
    "print(summary.head(10))"
   ]
  }
 ],
 "metadata": {
  "kernelspec": {
   "display_name": "Python 3 (ipykernel)",
   "language": "python",
   "name": "python3"
  },
  "language_info": {
   "codemirror_mode": {
    "name": "ipython",
    "version": 3
   },
   "file_extension": ".py",
   "mimetype": "text/x-python",
   "name": "python",
   "nbconvert_exporter": "python",
   "pygments_lexer": "ipython3",
   "version": "3.13.5"
  }
 },
 "nbformat": 4,
 "nbformat_minor": 5
}
